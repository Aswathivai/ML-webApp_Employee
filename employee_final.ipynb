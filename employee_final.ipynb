{
  "nbformat": 4,
  "nbformat_minor": 0,
  "metadata": {
    "colab": {
      "name": "employee_final.ipynb",
      "provenance": []
    },
    "kernelspec": {
      "name": "python3",
      "display_name": "Python 3"
    }
  },
  "cells": [
    {
      "cell_type": "code",
      "metadata": {
        "colab": {
          "base_uri": "https://localhost:8080/",
          "height": 632
        },
        "id": "-YzY6v4I_cYx",
        "outputId": "ec70c69e-b007-4afc-d3cf-f10f39b3c3d7"
      },
      "source": [
        "!pip install ipykernel==4.10 "
      ],
      "execution_count": 2,
      "outputs": [
        {
          "output_type": "stream",
          "text": [
            "Collecting ipykernel==4.10\n",
            "  Using cached https://files.pythonhosted.org/packages/22/5e/69b0ae84e0cd7c8d4467e0a7b390c560d8c7642493329b15461b41e20fcc/ipykernel-4.10.0-py3-none-any.whl\n",
            "Requirement already satisfied: ipython>=4.0.0 in /usr/local/lib/python3.6/dist-packages (from ipykernel==4.10) (5.5.0)\n",
            "Requirement already satisfied: tornado>=4.0 in /usr/local/lib/python3.6/dist-packages (from ipykernel==4.10) (5.1.1)\n",
            "Requirement already satisfied: traitlets>=4.1.0 in /usr/local/lib/python3.6/dist-packages (from ipykernel==4.10) (4.3.3)\n",
            "Requirement already satisfied: jupyter-client in /usr/local/lib/python3.6/dist-packages (from ipykernel==4.10) (5.3.5)\n",
            "Requirement already satisfied: decorator in /usr/local/lib/python3.6/dist-packages (from ipython>=4.0.0->ipykernel==4.10) (4.4.2)\n",
            "Requirement already satisfied: pickleshare in /usr/local/lib/python3.6/dist-packages (from ipython>=4.0.0->ipykernel==4.10) (0.7.5)\n",
            "Requirement already satisfied: prompt-toolkit<2.0.0,>=1.0.4 in /usr/local/lib/python3.6/dist-packages (from ipython>=4.0.0->ipykernel==4.10) (1.0.18)\n",
            "Requirement already satisfied: setuptools>=18.5 in /usr/local/lib/python3.6/dist-packages (from ipython>=4.0.0->ipykernel==4.10) (50.3.2)\n",
            "Requirement already satisfied: simplegeneric>0.8 in /usr/local/lib/python3.6/dist-packages (from ipython>=4.0.0->ipykernel==4.10) (0.8.1)\n",
            "Requirement already satisfied: pexpect; sys_platform != \"win32\" in /usr/local/lib/python3.6/dist-packages (from ipython>=4.0.0->ipykernel==4.10) (4.8.0)\n",
            "Requirement already satisfied: pygments in /usr/local/lib/python3.6/dist-packages (from ipython>=4.0.0->ipykernel==4.10) (2.6.1)\n",
            "Requirement already satisfied: ipython-genutils in /usr/local/lib/python3.6/dist-packages (from traitlets>=4.1.0->ipykernel==4.10) (0.2.0)\n",
            "Requirement already satisfied: six in /usr/local/lib/python3.6/dist-packages (from traitlets>=4.1.0->ipykernel==4.10) (1.15.0)\n",
            "Requirement already satisfied: jupyter-core>=4.6.0 in /usr/local/lib/python3.6/dist-packages (from jupyter-client->ipykernel==4.10) (4.7.0)\n",
            "Requirement already satisfied: pyzmq>=13 in /usr/local/lib/python3.6/dist-packages (from jupyter-client->ipykernel==4.10) (20.0.0)\n",
            "Requirement already satisfied: python-dateutil>=2.1 in /usr/local/lib/python3.6/dist-packages (from jupyter-client->ipykernel==4.10) (2.8.1)\n",
            "Requirement already satisfied: wcwidth in /usr/local/lib/python3.6/dist-packages (from prompt-toolkit<2.0.0,>=1.0.4->ipython>=4.0.0->ipykernel==4.10) (0.2.5)\n",
            "Requirement already satisfied: ptyprocess>=0.5 in /usr/local/lib/python3.6/dist-packages (from pexpect; sys_platform != \"win32\"->ipython>=4.0.0->ipykernel==4.10) (0.6.0)\n",
            "\u001b[31mERROR: pydeck 0.5.0 has requirement ipykernel>=5.1.2; python_version >= \"3.4\", but you'll have ipykernel 4.10.0 which is incompatible.\u001b[0m\n",
            "Installing collected packages: ipykernel\n",
            "  Found existing installation: ipykernel 5.3.4\n",
            "    Uninstalling ipykernel-5.3.4:\n",
            "      Successfully uninstalled ipykernel-5.3.4\n",
            "Successfully installed ipykernel-4.10.0\n"
          ],
          "name": "stdout"
        },
        {
          "output_type": "display_data",
          "data": {
            "application/vnd.colab-display-data+json": {
              "pip_warning": {
                "packages": [
                  "ipykernel"
                ]
              }
            }
          },
          "metadata": {
            "tags": []
          }
        }
      ]
    },
    {
      "cell_type": "code",
      "metadata": {
        "id": "qvcS_N6I_rD3"
      },
      "source": [
        "!pip install --upgrade streamlit -q"
      ],
      "execution_count": 1,
      "outputs": []
    },
    {
      "cell_type": "code",
      "metadata": {
        "id": "stdm9cuR_yjd"
      },
      "source": [
        "!pip install pyngrok -q"
      ],
      "execution_count": 2,
      "outputs": []
    },
    {
      "cell_type": "code",
      "metadata": {
        "colab": {
          "base_uri": "https://localhost:8080/"
        },
        "id": "UNkCpuDT_30q",
        "outputId": "f79733a1-ae27-45d1-94cc-7bede29af422"
      },
      "source": [
        "from pyngrok import ngrok\n",
        "public_url = ngrok.connect(port='80')\n",
        "print (public_url)"
      ],
      "execution_count": 3,
      "outputs": [
        {
          "output_type": "stream",
          "text": [
            "NgrokTunnel: \"http://8ba426028761.ngrok.io\" -> \"http://localhost:80\"\n"
          ],
          "name": "stdout"
        }
      ]
    },
    {
      "cell_type": "code",
      "metadata": {
        "id": "ip3Isp62_77p"
      },
      "source": [
        "import streamlit"
      ],
      "execution_count": 4,
      "outputs": []
    },
    {
      "cell_type": "code",
      "metadata": {
        "colab": {
          "base_uri": "https://localhost:8080/"
        },
        "id": "jm7v5p-iFyai",
        "outputId": "d8383ec6-ad17-4277-a4d4-2b4b7a1fe913"
      },
      "source": [
        "!pip install pycaret"
      ],
      "execution_count": 5,
      "outputs": [
        {
          "output_type": "stream",
          "text": [
            "Successfully installed tqdm-4.54.0\n"
          ],
          "name": "stdout"
        }
      ]
    },
    {
      "cell_type": "code",
      "metadata": {
        "colab": {
          "base_uri": "https://localhost:8080/"
        },
        "id": "4ZlmuF4eAAvG",
        "outputId": "331951a0-6fcc-45ba-e776-f031b0f9cebe"
      },
      "source": [
        "!streamlit run --server.port 80 stream_employeetest1.py >/dev/null"
      ],
      "execution_count": null,
      "outputs": [
        {
          "output_type": "stream",
          "text": [
            "2020-12-03 05:43:29.950 Initializing load_model()\n",
            "2020-12-03 05:43:29.950 load_model(verbose=True, authentication=None, platform=None, model_name=final rf model)\n"
          ],
          "name": "stdout"
        },
        {
          "output_type": "stream",
          "text": [
            "2020-12-03 05:43:30.809 INFO    pyngrok.process.ngrok: t=2020-12-03T05:43:30+0000 lvl=info msg=\"join connections\" obj=join id=c8f7a1043758 l=127.0.0.1:80 r=103.146.175.21:2232\n",
            "2020-12-03 05:43:31.827 INFO    pyngrok.process.ngrok: t=2020-12-03T05:43:31+0000 lvl=info msg=\"join connections\" obj=join id=182223535dd2 l=127.0.0.1:80 r=103.146.175.21:2225\n",
            "2020-12-03 05:43:34.467 INFO    pyngrok.process.ngrok: t=2020-12-03T05:43:34+0000 lvl=info msg=\"join connections\" obj=join id=e22508647f46 l=127.0.0.1:80 r=103.146.175.21:2182\n",
            "2020-12-03 05:43:35.022 INFO    pyngrok.process.ngrok: t=2020-12-03T05:43:35+0000 lvl=info msg=\"join connections\" obj=join id=e0a1dd3ac127 l=127.0.0.1:80 r=103.146.175.21:2176\n",
            "2020-12-03 05:43:35.039 INFO    pyngrok.process.ngrok: t=2020-12-03T05:43:35+0000 lvl=info msg=\"join connections\" obj=join id=1bce5987cde0 l=127.0.0.1:80 r=103.146.175.21:2177\n",
            "2020-12-03 05:43:35.296 INFO    pyngrok.process.ngrok: t=2020-12-03T05:43:35+0000 lvl=info msg=\"join connections\" obj=join id=f430b156d926 l=127.0.0.1:80 r=103.146.175.21:2176\n",
            "2020-12-03 05:43:35.307 INFO    pyngrok.process.ngrok: t=2020-12-03T05:43:35+0000 lvl=info msg=\"join connections\" obj=join id=533def4c462c l=127.0.0.1:80 r=103.146.175.21:2225\n"
          ],
          "name": "stderr"
        },
        {
          "output_type": "stream",
          "text": [
            "2020-12-03 05:43:45.049 Initializing load_model()\n",
            "2020-12-03 05:43:45.049 load_model(verbose=True, authentication=None, platform=None, model_name=final rf model)\n",
            "2020-12-03 05:43:45.161 Initializing predict_model()\n",
            "2020-12-03 05:43:45.162 predict_model(display=None, ml_usecase=MLUsecase.CLASSIFICATION, verbose=True, round=4, encoded_labels=False, probability_threshold=None, estimator=Pipeline(steps=[('dtypes',\n",
            "                 DataTypes_Auto_infer(ml_usecase='classification',\n",
            "                                      target='left')),\n",
            "                ('imputer',\n",
            "                 Simple_Imputer(categorical_strategy='not_available',\n",
            "                                fill_value_categorical=None,\n",
            "                                fill_value_numerical=None,\n",
            "                                numeric_strategy='mean',\n",
            "                                target_variable=None)),\n",
            "                ('new_levels1',\n",
            "                 New_Catagorical_Levels_in_TestData(replacement_strategy='least '\n",
            "                                                                         'frequent',\n",
            "                                                    target...\n",
            "                ('binn', 'passthrough'), ('rem_outliers', 'passthrough'),\n",
            "                ('cluster_all', 'passthrough'),\n",
            "                ('dummy', Dummify(target='left')),\n",
            "                ('fix_perfect', Remove_100(target='left')),\n",
            "                ('clean_names', Clean_Colum_Names()),\n",
            "                ('feature_select', 'passthrough'), ('fix_multi', 'passthrough'),\n",
            "                ('dfs', 'passthrough'), ('pca', 'passthrough'),\n",
            "                ['trained_model',\n",
            "                 RandomForestClassifier(n_jobs=-1, random_state=123)]]))\n",
            "2020-12-03 05:43:45.164 Checking exceptions\n",
            "2020-12-03 05:43:45.164 Preloading libraries\n",
            "2020-12-03 05:43:45.217 NumExpr defaulting to 2 threads.\n",
            "2020-12-03 05:43:51.391 Initializing load_model()\n",
            "2020-12-03 05:43:51.393 load_model(verbose=True, authentication=None, platform=None, model_name=final rf model)\n",
            "2020-12-03 05:44:01.359 Initializing load_model()\n",
            "2020-12-03 05:44:01.361 load_model(verbose=True, authentication=None, platform=None, model_name=final rf model)\n",
            "2020-12-03 05:44:01.465 Initializing predict_model()\n",
            "2020-12-03 05:44:01.466 predict_model(display=None, ml_usecase=MLUsecase.CLASSIFICATION, verbose=True, round=4, encoded_labels=False, probability_threshold=None, estimator=Pipeline(steps=[('dtypes',\n",
            "                 DataTypes_Auto_infer(ml_usecase='classification',\n",
            "                                      target='left')),\n",
            "                ('imputer',\n",
            "                 Simple_Imputer(categorical_strategy='not_available',\n",
            "                                fill_value_categorical=None,\n",
            "                                fill_value_numerical=None,\n",
            "                                numeric_strategy='mean',\n",
            "                                target_variable=None)),\n",
            "                ('new_levels1',\n",
            "                 New_Catagorical_Levels_in_TestData(replacement_strategy='least '\n",
            "                                                                         'frequent',\n",
            "                                                    target...\n",
            "                ('binn', 'passthrough'), ('rem_outliers', 'passthrough'),\n",
            "                ('cluster_all', 'passthrough'),\n",
            "                ('dummy', Dummify(target='left')),\n",
            "                ('fix_perfect', Remove_100(target='left')),\n",
            "                ('clean_names', Clean_Colum_Names()),\n",
            "                ('feature_select', 'passthrough'), ('fix_multi', 'passthrough'),\n",
            "                ('dfs', 'passthrough'), ('pca', 'passthrough'),\n",
            "                ['trained_model',\n",
            "                 RandomForestClassifier(n_jobs=-1, random_state=123)]]))\n",
            "2020-12-03 05:44:01.468 Checking exceptions\n",
            "2020-12-03 05:44:01.468 Preloading libraries\n",
            "2020-12-03 05:44:34.601 Initializing load_model()\n",
            "2020-12-03 05:44:34.602 load_model(verbose=True, authentication=None, platform=None, model_name=final rf model)\n"
          ],
          "name": "stdout"
        }
      ]
    }
  ]
}